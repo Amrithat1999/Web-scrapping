{
 "cells": [
  {
   "cell_type": "code",
   "execution_count": 91,
   "metadata": {},
   "outputs": [],
   "source": [
    "from selenium import webdriver\n",
    "from bs4 import BeautifulSoup\n",
    "import time\n",
    "import chromedriver_binary\n",
    "from urllib.request import urlopen\n",
    "from selenium.webdriver.support.select import Select\n",
    "from selenium.webdriver.support.ui import WebDriverWait\n",
    "from selenium.webdriver.support import expected_conditions as EC\n",
    "from selenium.webdriver.common.keys import Keys \n",
    "import scrapy\n",
    "import pandas as pd\n",
    "import re"
   ]
  },
  {
   "cell_type": "code",
   "execution_count": 92,
   "metadata": {},
   "outputs": [],
   "source": [
    "driver = webdriver.Chrome('chromedriver')\n",
    "profile_url=driver.get(\"https://www.hcpcsdata.com/Codes\")\n",
    "driver.maximize_window()\n",
    "time.sleep(1)"
   ]
  },
  {
   "cell_type": "code",
   "execution_count": null,
   "metadata": {},
   "outputs": [],
   "source": [
    "first=[]\n",
    "codes=[]\n",
    "Long_des=[]\n",
    "ddd=[]\n",
    "for fi in range(1,6):\n",
    "    p='/html/body/div[1]/div/table/tbody/tr['+str(fi)+']/td[1]/a'\n",
    "    s=driver.find_elements_by_xpath(p)\n",
    "    code=[]\n",
    "    Long_de=[]\n",
    "    dd=[]\n",
    "    for ss in s:\n",
    "        ss.click()\n",
    "        time.sleep(3)\n",
    "\n",
    "        a=driver.find_elements_by_class_name('identifier')\n",
    "        \n",
    "        try:\n",
    "            for aa in a:\n",
    "                code.append(aa.text)\n",
    "            cod=code[:10]\n",
    "            codes.append(cod)\n",
    "            time.sleep(3)\n",
    "        except:\n",
    "            pass\n",
    "\n",
    "        try:\n",
    "            for it in range(1,11):\n",
    "                des=driver.find_element_by_xpath('/html/body/div[1]/div/div[1]/table/tbody/tr['+str(it)+']/td[2]')\n",
    "                Long_de.append(des.text)\n",
    "            Long_des.append(Long_de)\n",
    "            time.sleep(3)\n",
    "\n",
    "        except:\n",
    "            pass\n",
    "\n",
    "        \n",
    "        try:\n",
    "            for it in range(1,11):\n",
    "                path='/html/body/div[1]/div/div[1]/table/tbody/tr['+str(it)+']/td[2]'\n",
    "                ab=driver.find_elements_by_xpath(path)\n",
    "                for abc in ab:\n",
    "                    abc.click()\n",
    "                    s_des=driver.find_element_by_xpath('//*[@id=\"codeDetail\"]/tbody/tr[1]/td[2]')\n",
    "                    time.sleep(2)\n",
    "                    dd.append(s_des.text)\n",
    "                    driver.back()\n",
    "                    time.sleep(1)\n",
    "        except:\n",
    "            pass\n",
    "        ddd.append(dd)\n",
    "\n",
    "    time.sleep(2)\n",
    "    driver.back()\n",
    "    time.sleep(2)"
   ]
  },
  {
   "cell_type": "code",
   "execution_count": 163,
   "metadata": {},
   "outputs": [],
   "source": [
    "f_co=[]\n",
    "for i in codes:\n",
    "    for j in i:\n",
    "        f_co.append(j)"
   ]
  },
  {
   "cell_type": "code",
   "execution_count": 164,
   "metadata": {},
   "outputs": [],
   "source": [
    "Long=[]\n",
    "for ii in Long_des:\n",
    "    # print(ii)\n",
    "    for jj in ii:\n",
    "        Long.append(jj)"
   ]
  },
  {
   "cell_type": "code",
   "execution_count": 165,
   "metadata": {},
   "outputs": [],
   "source": [
    "short=[]\n",
    "for iii in ddd:\n",
    "    # print(ii)\n",
    "    for jjj in iii:\n",
    "        short.append(jjj)"
   ]
  },
  {
   "cell_type": "code",
   "execution_count": 169,
   "metadata": {},
   "outputs": [],
   "source": [
    "dat={'Code':f_co,'Long Description':Long,'Short Description':short}\n",
    "\n",
    "data=pd.DataFrame(dat)\n",
    "data['Group']=\"HCPCS 'A' Codes\"\n",
    "data['Category']=\"Transportation Services Including Ambulance, Medical & Surgical Supplies\"\n",
    "# data"
   ]
  },
  {
   "cell_type": "code",
   "execution_count": 170,
   "metadata": {},
   "outputs": [
    {
     "data": {
      "text/plain": [
       "['Category', 'Code', 'Long Description', 'Short Description', 'Group']"
      ]
     },
     "execution_count": 170,
     "metadata": {},
     "output_type": "execute_result"
    }
   ],
   "source": [
    "cols = data.columns.tolist()\n",
    "cols = cols[-1:] + cols[:-1]\n",
    "cols"
   ]
  },
  {
   "cell_type": "code",
   "execution_count": 171,
   "metadata": {},
   "outputs": [
    {
     "name": "stderr",
     "output_type": "stream",
     "text": [
      "/home/ai/.local/lib/python3.8/site-packages/pandas/compat/_optional.py:161: UserWarning: Pandas requires version '1.2.2' or newer of 'xlsxwriter' (version '1.2.0' currently installed).\n",
      "  warnings.warn(msg, UserWarning)\n"
     ]
    }
   ],
   "source": [
    "cols = cols[-1:] + cols[:-1]\n",
    "\n",
    "data=data[cols]\n",
    "data.to_excel('hakeem_hcpc.xlsx')"
   ]
  },
  {
   "cell_type": "code",
   "execution_count": null,
   "metadata": {},
   "outputs": [],
   "source": []
  }
 ],
 "metadata": {
  "kernelspec": {
   "display_name": "Python 3.8.10 64-bit",
   "language": "python",
   "name": "python3"
  },
  "language_info": {
   "codemirror_mode": {
    "name": "ipython",
    "version": 3
   },
   "file_extension": ".py",
   "mimetype": "text/x-python",
   "name": "python",
   "nbconvert_exporter": "python",
   "pygments_lexer": "ipython3",
   "version": "3.8.10"
  },
  "orig_nbformat": 4,
  "vscode": {
   "interpreter": {
    "hash": "916dbcbb3f70747c44a77c7bcd40155683ae19c65e1c03b4aa3499c5328201f1"
   }
  }
 },
 "nbformat": 4,
 "nbformat_minor": 2
}
